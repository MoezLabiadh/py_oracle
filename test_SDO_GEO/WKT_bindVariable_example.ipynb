{
 "cells": [
  {
   "cell_type": "code",
   "execution_count": 1,
   "id": "19718c98",
   "metadata": {},
   "outputs": [],
   "source": [
    "import cx_Oracle\n",
    "import pandas as pd"
   ]
  },
  {
   "cell_type": "code",
   "execution_count": 2,
   "id": "f3de00c3",
   "metadata": {},
   "outputs": [],
   "source": [
    "def connect_to_DB (username,password,hostname):\n",
    "    \"\"\" Returns a connection to Oracle database\"\"\"\n",
    "    try:\n",
    "        connection = cx_Oracle.connect(username, password, hostname, encoding=\"UTF-8\")\n",
    "        print  (\"Successffuly connected to the database\")\n",
    "    except:\n",
    "        raise Exception('Connection failed! Please verifiy your login parameters')\n",
    "\n",
    "    return connection"
   ]
  },
  {
   "cell_type": "code",
   "execution_count": null,
   "id": "8b44e5e5",
   "metadata": {},
   "outputs": [],
   "source": [
    "# db connection parameters\n",
    "hostname = 'bcgw.bcgov/idwprod1.bcgov'\n",
    "username = input(\"Enter your BCGW username:\")\n",
    "password = input(\"Enter your BCGW password:\")"
   ]
  },
  {
   "cell_type": "code",
   "execution_count": 4,
   "id": "3b9a3abd",
   "metadata": {},
   "outputs": [
    {
     "name": "stdout",
     "output_type": "stream",
     "text": [
      "Successffuly connected to the database\n"
     ]
    }
   ],
   "source": [
    "# connect to BCGW\n",
    "connection = connect_to_DB (username,password,hostname)"
   ]
  },
  {
   "cell_type": "code",
   "execution_count": 13,
   "id": "86fa9f4f",
   "metadata": {},
   "outputs": [],
   "source": [
    "#SQL to execute\n",
    "query = \"\"\"\n",
    "          SELECT*\n",
    "           \n",
    "          FROM WHSE_TANTALIS.TA_CROWN_TENURES_SVW b\n",
    "\n",
    "          WHERE SDO_ANYINTERACT (b.SHAPE, SDO_GEOMETRY(:wktvar, 3005)) = 'TRUE'\n",
    "       \"\"\""
   ]
  },
  {
   "cell_type": "code",
   "execution_count": 14,
   "id": "3ec8811c",
   "metadata": {},
   "outputs": [],
   "source": [
    "# Execute query and read results into df\n",
    "def read_query(connection,query,bind_vars):\n",
    "    cursor = connection.cursor()\n",
    "    try:\n",
    "        cursor.execute(query, bind_vars)\n",
    "        names = [ x[0] for x in cursor.description]\n",
    "        rows = cursor.fetchall()\n",
    "        return pd.DataFrame( rows, columns=names)\n",
    "    \n",
    "    finally:\n",
    "        if cursor is not None:\n",
    "            cursor.close()"
   ]
  },
  {
   "cell_type": "code",
   "execution_count": 15,
   "id": "78af155d",
   "metadata": {},
   "outputs": [],
   "source": [
    "# WKT string\n",
    "wkt = 'MULTIPOLYGON (((1100843.5229000002 421022.85319999978, 1103224.7775999997 410545.33220000006,\\\n",
    "                      1116797.9298 404274.69470000081, 1132514.2112000007 408799.07870000042, \\\n",
    "                      1127275.4506999999 422372.23090000078, 1100843.5229000002 421022.85319999978)))'"
   ]
  },
  {
   "cell_type": "code",
   "execution_count": 16,
   "id": "16d43551",
   "metadata": {},
   "outputs": [],
   "source": [
    "# Define bind variables\n",
    "bind_vars = {'wktvar': wkt}"
   ]
  },
  {
   "cell_type": "code",
   "execution_count": 17,
   "id": "f0ca1429",
   "metadata": {},
   "outputs": [
    {
     "data": {
      "text/html": [
       "<div>\n",
       "<style scoped>\n",
       "    .dataframe tbody tr th:only-of-type {\n",
       "        vertical-align: middle;\n",
       "    }\n",
       "\n",
       "    .dataframe tbody tr th {\n",
       "        vertical-align: top;\n",
       "    }\n",
       "\n",
       "    .dataframe thead th {\n",
       "        text-align: right;\n",
       "    }\n",
       "</style>\n",
       "<table border=\"1\" class=\"dataframe\">\n",
       "  <thead>\n",
       "    <tr style=\"text-align: right;\">\n",
       "      <th></th>\n",
       "      <th>INTRID_SID</th>\n",
       "      <th>TENURE_STAGE</th>\n",
       "      <th>TENURE_STATUS</th>\n",
       "      <th>TENURE_TYPE</th>\n",
       "      <th>TENURE_SUBTYPE</th>\n",
       "      <th>TENURE_PURPOSE</th>\n",
       "      <th>TENURE_SUBPURPOSE</th>\n",
       "      <th>CROWN_LANDS_FILE</th>\n",
       "      <th>APPLICATION_TYPE_CDE</th>\n",
       "      <th>TENURE_DOCUMENT</th>\n",
       "      <th>...</th>\n",
       "      <th>TENURE_AREA_IN_HECTARES</th>\n",
       "      <th>RESPONSIBLE_BUSINESS_UNIT</th>\n",
       "      <th>DISPOSITION_TRANSACTION_SID</th>\n",
       "      <th>CODE_CHR_STAGE</th>\n",
       "      <th>FEATURE_CODE</th>\n",
       "      <th>SHAPE</th>\n",
       "      <th>FEATURE_AREA_SQM</th>\n",
       "      <th>FEATURE_LENGTH_M</th>\n",
       "      <th>OBJECTID</th>\n",
       "      <th>SE_ANNO_CAD_DATA</th>\n",
       "    </tr>\n",
       "  </thead>\n",
       "  <tbody>\n",
       "    <tr>\n",
       "      <th>0</th>\n",
       "      <td>153741</td>\n",
       "      <td>TENURE</td>\n",
       "      <td>DISPOSITION IN GOOD STANDING</td>\n",
       "      <td>RESERVE/NOTATION</td>\n",
       "      <td>NOTATION OF INTEREST</td>\n",
       "      <td>ENVIRONMENT, CONSERVATION, &amp; RECR</td>\n",
       "      <td>FISH AND WILDLIFE MANAGEMENT</td>\n",
       "      <td>1407024</td>\n",
       "      <td>NEW</td>\n",
       "      <td>R920030</td>\n",
       "      <td>...</td>\n",
       "      <td>0.025</td>\n",
       "      <td>VI - LAND MGMNT - VANCOUVER ISLAND SERVICE REGION</td>\n",
       "      <td>160568</td>\n",
       "      <td>T</td>\n",
       "      <td>FL98000700</td>\n",
       "      <td>&lt;cx_Oracle.Object MDSYS.SDO_GEOMETRY at -0x69b...</td>\n",
       "      <td>225.1476</td>\n",
       "      <td>60.0198</td>\n",
       "      <td>1513</td>\n",
       "      <td>None</td>\n",
       "    </tr>\n",
       "    <tr>\n",
       "      <th>1</th>\n",
       "      <td>946268</td>\n",
       "      <td>TENURE</td>\n",
       "      <td>DISPOSITION IN GOOD STANDING</td>\n",
       "      <td>LICENCE</td>\n",
       "      <td>LICENCE OF OCCUPATION</td>\n",
       "      <td>QUARRYING</td>\n",
       "      <td>CONSTRUCTION STONE</td>\n",
       "      <td>1407245</td>\n",
       "      <td>REP</td>\n",
       "      <td>V921238</td>\n",
       "      <td>...</td>\n",
       "      <td>25.030</td>\n",
       "      <td>VI - LAND MGMNT - VANCOUVER ISLAND SERVICE REGION</td>\n",
       "      <td>921238</td>\n",
       "      <td>T</td>\n",
       "      <td>FL98000500</td>\n",
       "      <td>&lt;cx_Oracle.Object MDSYS.SDO_GEOMETRY at -0x69b...</td>\n",
       "      <td>248988.4379</td>\n",
       "      <td>1995.2360</td>\n",
       "      <td>46856</td>\n",
       "      <td>None</td>\n",
       "    </tr>\n",
       "  </tbody>\n",
       "</table>\n",
       "<p>2 rows × 24 columns</p>\n",
       "</div>"
      ],
      "text/plain": [
       "   INTRID_SID TENURE_STAGE                 TENURE_STATUS       TENURE_TYPE  \\\n",
       "0      153741       TENURE  DISPOSITION IN GOOD STANDING  RESERVE/NOTATION   \n",
       "1      946268       TENURE  DISPOSITION IN GOOD STANDING           LICENCE   \n",
       "\n",
       "          TENURE_SUBTYPE                     TENURE_PURPOSE  \\\n",
       "0   NOTATION OF INTEREST  ENVIRONMENT, CONSERVATION, & RECR   \n",
       "1  LICENCE OF OCCUPATION                          QUARRYING   \n",
       "\n",
       "              TENURE_SUBPURPOSE CROWN_LANDS_FILE APPLICATION_TYPE_CDE  \\\n",
       "0  FISH AND WILDLIFE MANAGEMENT          1407024                  NEW   \n",
       "1            CONSTRUCTION STONE          1407245                  REP   \n",
       "\n",
       "  TENURE_DOCUMENT  ... TENURE_AREA_IN_HECTARES  \\\n",
       "0         R920030  ...                   0.025   \n",
       "1         V921238  ...                  25.030   \n",
       "\n",
       "                           RESPONSIBLE_BUSINESS_UNIT  \\\n",
       "0  VI - LAND MGMNT - VANCOUVER ISLAND SERVICE REGION   \n",
       "1  VI - LAND MGMNT - VANCOUVER ISLAND SERVICE REGION   \n",
       "\n",
       "  DISPOSITION_TRANSACTION_SID CODE_CHR_STAGE  FEATURE_CODE  \\\n",
       "0                      160568              T    FL98000700   \n",
       "1                      921238              T    FL98000500   \n",
       "\n",
       "                                               SHAPE  FEATURE_AREA_SQM  \\\n",
       "0  <cx_Oracle.Object MDSYS.SDO_GEOMETRY at -0x69b...          225.1476   \n",
       "1  <cx_Oracle.Object MDSYS.SDO_GEOMETRY at -0x69b...       248988.4379   \n",
       "\n",
       "  FEATURE_LENGTH_M OBJECTID SE_ANNO_CAD_DATA  \n",
       "0          60.0198     1513             None  \n",
       "1        1995.2360    46856             None  \n",
       "\n",
       "[2 rows x 24 columns]"
      ]
     },
     "execution_count": 17,
     "metadata": {},
     "output_type": "execute_result"
    }
   ],
   "source": [
    "df = read_query(connection,query,bind_vars)\n",
    "df.head()"
   ]
  },
  {
   "cell_type": "code",
   "execution_count": null,
   "id": "d03929ae",
   "metadata": {},
   "outputs": [],
   "source": []
  }
 ],
 "metadata": {
  "kernelspec": {
   "display_name": "Python 3",
   "language": "python",
   "name": "python3"
  },
  "language_info": {
   "codemirror_mode": {
    "name": "ipython",
    "version": 3
   },
   "file_extension": ".py",
   "mimetype": "text/x-python",
   "name": "python",
   "nbconvert_exporter": "python",
   "pygments_lexer": "ipython3",
   "version": "3.8.10"
  }
 },
 "nbformat": 4,
 "nbformat_minor": 5
}
