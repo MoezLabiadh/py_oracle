{
 "cells": [
  {
   "cell_type": "code",
   "execution_count": 1,
   "metadata": {},
   "outputs": [],
   "source": [
    "import cx_Oracle\n",
    "import pandas as pd\n",
    "import geopandas as gpd\n",
    "from shapely import wkt"
   ]
  },
  {
   "cell_type": "code",
   "execution_count": 2,
   "metadata": {},
   "outputs": [],
   "source": [
    "def connect_to_DB (username,password,hostname):\n",
    "    \"\"\" Returns a connection to Oracle database\"\"\"\n",
    "    try:\n",
    "        connection = cx_Oracle.connect(username, password, hostname, encoding=\"UTF-8\")\n",
    "        print  (\"Successffuly connected to the database\")\n",
    "    except:\n",
    "        raise Exception('Connection failed! Please verifiy your login parameters')\n",
    "\n",
    "    return connection"
   ]
  },
  {
   "cell_type": "code",
   "execution_count": null,
   "metadata": {},
   "outputs": [],
   "source": [
    "# Connect to BCGW\n",
    "hostname = 'bcgw.bcgov/idwprod1.bcgov'\n",
    "username = input(\"Enter your BCGW username:\")\n",
    "password = input(\"Enter your BCGW password:\")\n",
    "\n",
    "connection = connect_to_DB (username,password,hostname)"
   ]
  },
  {
   "cell_type": "code",
   "execution_count": 4,
   "metadata": {},
   "outputs": [
    {
     "data": {
      "text/plain": [
       "'GEOMETRY'"
      ]
     },
     "execution_count": 4,
     "metadata": {},
     "output_type": "execute_result"
    }
   ],
   "source": [
    "# Get the Geometry column name.\n",
    "# Added this because the geometry column name of BCGW tables can be SHAPE or GEOMETRY.\n",
    "\n",
    "geom_query =  \"\"\"\n",
    "                SELECT column_name GEOM_NAME\n",
    "                FROM  ALL_SDO_GEOM_METADATA\n",
    "                WHERE owner = 'WHSE_FOREST_VEGETATION'\n",
    "                   AND table_name = 'RSLT_OPENING_SVW'\n",
    "              \"\"\"\n",
    "df_col = df = pd.read_sql(geom_query, con=connection)\n",
    "\n",
    "geoCol_name = df_col ['GEOM_NAME'].iloc[0]\n",
    "geoCol_name"
   ]
  },
  {
   "cell_type": "code",
   "execution_count": 5,
   "metadata": {},
   "outputs": [],
   "source": [
    "# SQL query to execute\n",
    "query =\"\"\"\n",
    "           SELECT f.OPENING_ID, f.OPENING_LOCATION_NAME,\n",
    "                  TO_CHAR(SDO_UTIL.TO_WKTGEOMETRY(f.{geom})) GEO, \n",
    "                  f.{geom}.sdo_srid SRID\n",
    "                  \n",
    "           FROM WHSE_FOREST_VEGETATION.RSLT_OPENING_SVW f\n",
    "           \n",
    "           WHERE f.OPENING_ID in (24962,24970,24963,24971) \n",
    "    \"\"\" .format (geom = geoCol_name)"
   ]
  },
  {
   "cell_type": "code",
   "execution_count": 6,
   "metadata": {},
   "outputs": [],
   "source": [
    "# Read query results into df\n",
    "df = pd.read_sql(query, con=connection)\n",
    "\n",
    "# Format the Geometry column\n",
    "df['geometry'] = df['GEO'].apply(wkt.loads)"
   ]
  },
  {
   "cell_type": "code",
   "execution_count": 7,
   "metadata": {},
   "outputs": [
    {
     "data": {
      "text/html": [
       "<div>\n",
       "<style scoped>\n",
       "    .dataframe tbody tr th:only-of-type {\n",
       "        vertical-align: middle;\n",
       "    }\n",
       "\n",
       "    .dataframe tbody tr th {\n",
       "        vertical-align: top;\n",
       "    }\n",
       "\n",
       "    .dataframe thead th {\n",
       "        text-align: right;\n",
       "    }\n",
       "</style>\n",
       "<table border=\"1\" class=\"dataframe\">\n",
       "  <thead>\n",
       "    <tr style=\"text-align: right;\">\n",
       "      <th></th>\n",
       "      <th>OPENING_ID</th>\n",
       "      <th>OPENING_LOCATION_NAME</th>\n",
       "      <th>geometry</th>\n",
       "    </tr>\n",
       "  </thead>\n",
       "  <tbody>\n",
       "    <tr>\n",
       "      <th>0</th>\n",
       "      <td>24962</td>\n",
       "      <td>BUSH CHAPERON</td>\n",
       "      <td>POLYGON ((1586440.054 780765.616, 1586414.831 ...</td>\n",
       "    </tr>\n",
       "    <tr>\n",
       "      <th>1</th>\n",
       "      <td>24963</td>\n",
       "      <td>BUSH CHAPERON</td>\n",
       "      <td>POLYGON ((1586897.200 780087.449, 1586867.007 ...</td>\n",
       "    </tr>\n",
       "    <tr>\n",
       "      <th>2</th>\n",
       "      <td>24970</td>\n",
       "      <td>BUSH CHAPERON</td>\n",
       "      <td>POLYGON ((1585564.343 779928.522, 1585563.200 ...</td>\n",
       "    </tr>\n",
       "    <tr>\n",
       "      <th>3</th>\n",
       "      <td>24971</td>\n",
       "      <td>BUSH CHAPERON</td>\n",
       "      <td>POLYGON ((1586373.591 780396.240, 1586377.056 ...</td>\n",
       "    </tr>\n",
       "  </tbody>\n",
       "</table>\n",
       "</div>"
      ],
      "text/plain": [
       "   OPENING_ID OPENING_LOCATION_NAME  \\\n",
       "0       24962         BUSH CHAPERON   \n",
       "1       24963         BUSH CHAPERON   \n",
       "2       24970         BUSH CHAPERON   \n",
       "3       24971         BUSH CHAPERON   \n",
       "\n",
       "                                            geometry  \n",
       "0  POLYGON ((1586440.054 780765.616, 1586414.831 ...  \n",
       "1  POLYGON ((1586897.200 780087.449, 1586867.007 ...  \n",
       "2  POLYGON ((1585564.343 779928.522, 1585563.200 ...  \n",
       "3  POLYGON ((1586373.591 780396.240, 1586377.056 ...  "
      ]
     },
     "execution_count": 7,
     "metadata": {},
     "output_type": "execute_result"
    }
   ],
   "source": [
    "# Create a gdf and set a \n",
    "gdf = gpd.GeoDataFrame(df, geometry = df['geometry'])\n",
    "crs = str(df['SRID'].iloc[0])[-4:]\n",
    "gdf.crs = \"EPSG:\" + crs\n",
    "\n",
    "del df['SRID']\n",
    "del df['GEO']\n",
    "\n",
    "gdf"
   ]
  },
  {
   "cell_type": "code",
   "execution_count": 10,
   "metadata": {
    "scrolled": true
   },
   "outputs": [],
   "source": [
    "# Export to shp (or other format)\n",
    "# For supported formats. run: fiona.supported_drivers\n",
    "\n",
    "file_format = \"ESRI Shapefile\"\n",
    "file_name = r'F:\\tko_root\\GIS_WORKSPACE\\MLABIADH\\GIS-REQUESTS\\tempo\\test_poly.shp'\n",
    "gdf.to_file(file_name, driver=file_format)"
   ]
  }
 ],
 "metadata": {
  "kernelspec": {
   "display_name": "Python 3",
   "language": "python",
   "name": "python3"
  },
  "language_info": {
   "codemirror_mode": {
    "name": "ipython",
    "version": 3
   },
   "file_extension": ".py",
   "mimetype": "text/x-python",
   "name": "python",
   "nbconvert_exporter": "python",
   "pygments_lexer": "ipython3",
   "version": "3.7.6"
  }
 },
 "nbformat": 4,
 "nbformat_minor": 4
}
